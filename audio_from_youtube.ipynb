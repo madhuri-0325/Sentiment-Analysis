{
 "cells": [
  {
   "cell_type": "code",
   "execution_count": 1,
   "id": "8e01ec9e",
   "metadata": {},
   "outputs": [
    {
     "name": "stdout",
     "output_type": "stream",
     "text": [
      "Collecting pytube\n",
      "  Downloading pytube-15.0.0-py3-none-any.whl (57 kB)\n",
      "Installing collected packages: pytube\n",
      "Successfully installed pytube-15.0.0\n"
     ]
    }
   ],
   "source": [
    "!pip install pytube "
   ]
  },
  {
   "cell_type": "code",
   "execution_count": 4,
   "id": "0e16c943",
   "metadata": {},
   "outputs": [],
   "source": [
    "from pytube import YouTube\n",
    "\n",
    "# YouTube video URL\n",
    "video_url = 'https://www.youtube.com/watch?v=sypHOzO0B4I'\n",
    "\n",
    "# Create a YouTube object\n",
    "yt = YouTube(video_url)\n",
    "\n",
    "# Get the audio streams (filter by audio only)\n",
    "audio_streams = yt.streams.filter(only_audio=True)\n",
    "\n",
    "# Choose the first audio stream (you can also select based on bitrate or other criteria)\n",
    "audio = audio_streams.first()\n",
    "\n",
    "# Download the audio stream\n",
    "audio.download(output_path='', filename='PM')\n",
    "\n"
   ]
  },
  {
   "cell_type": "code",
   "execution_count": null,
   "id": "026a0b28",
   "metadata": {},
   "outputs": [],
   "source": [
    "# Rename the downloaded file to .mp4 extension\n",
    "import os\n",
    "os.rename('PM', 'PM.mp4')"
   ]
  }
 ],
 "metadata": {
  "kernelspec": {
   "display_name": "Python 3",
   "language": "python",
   "name": "python3"
  },
  "language_info": {
   "codemirror_mode": {
    "name": "ipython",
    "version": 3
   },
   "file_extension": ".py",
   "mimetype": "text/x-python",
   "name": "python",
   "nbconvert_exporter": "python",
   "pygments_lexer": "ipython3",
   "version": "3.8.8"
  }
 },
 "nbformat": 4,
 "nbformat_minor": 5
}
