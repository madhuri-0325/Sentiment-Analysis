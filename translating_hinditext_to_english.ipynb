{
 "cells": [
  {
   "cell_type": "code",
   "execution_count": 1,
   "id": "6e036ca9",
   "metadata": {},
   "outputs": [
    {
     "name": "stdout",
     "output_type": "stream",
     "text": [
      "Requirement already satisfied: googletrans==4.0.0-rc1 in c:\\users\\hp\\anaconda3\\lib\\site-packages (4.0.0rc1)\n",
      "Requirement already satisfied: httpx==0.13.3 in c:\\users\\hp\\anaconda3\\lib\\site-packages (from googletrans==4.0.0-rc1) (0.13.3)\n",
      "Requirement already satisfied: certifi in c:\\users\\hp\\anaconda3\\lib\\site-packages (from httpx==0.13.3->googletrans==4.0.0-rc1) (2020.12.5)\n",
      "Requirement already satisfied: hstspreload in c:\\users\\hp\\anaconda3\\lib\\site-packages (from httpx==0.13.3->googletrans==4.0.0-rc1) (2025.1.1)\n",
      "Requirement already satisfied: sniffio in c:\\users\\hp\\anaconda3\\lib\\site-packages (from httpx==0.13.3->googletrans==4.0.0-rc1) (1.2.0)\n",
      "Requirement already satisfied: chardet==3.* in c:\\users\\hp\\anaconda3\\lib\\site-packages (from httpx==0.13.3->googletrans==4.0.0-rc1) (3.0.4)\n",
      "Requirement already satisfied: idna==2.* in c:\\users\\hp\\anaconda3\\lib\\site-packages (from httpx==0.13.3->googletrans==4.0.0-rc1) (2.10)\n",
      "Requirement already satisfied: rfc3986<2,>=1.3 in c:\\users\\hp\\anaconda3\\lib\\site-packages (from httpx==0.13.3->googletrans==4.0.0-rc1) (1.5.0)\n",
      "Requirement already satisfied: httpcore==0.9.* in c:\\users\\hp\\anaconda3\\lib\\site-packages (from httpx==0.13.3->googletrans==4.0.0-rc1) (0.9.1)\n",
      "Requirement already satisfied: h11<0.10,>=0.8 in c:\\users\\hp\\anaconda3\\lib\\site-packages (from httpcore==0.9.*->httpx==0.13.3->googletrans==4.0.0-rc1) (0.9.0)\n",
      "Requirement already satisfied: h2==3.* in c:\\users\\hp\\anaconda3\\lib\\site-packages (from httpcore==0.9.*->httpx==0.13.3->googletrans==4.0.0-rc1) (3.2.0)\n",
      "Requirement already satisfied: hyperframe<6,>=5.2.0 in c:\\users\\hp\\anaconda3\\lib\\site-packages (from h2==3.*->httpcore==0.9.*->httpx==0.13.3->googletrans==4.0.0-rc1) (5.2.0)\n",
      "Requirement already satisfied: hpack<4,>=3.0 in c:\\users\\hp\\anaconda3\\lib\\site-packages (from h2==3.*->httpcore==0.9.*->httpx==0.13.3->googletrans==4.0.0-rc1) (3.0.0)"
     ]
    },
    {
     "name": "stderr",
     "output_type": "stream",
     "text": [
      "WARNING: Error parsing dependencies of pyodbc: Invalid version: '4.0.0-unsupported'\n",
      "WARNING: Error parsing dependencies of pyzmq: Invalid version: 'cpython'\n",
      "ERROR: Exception:\n",
      "Traceback (most recent call last):\n",
      "  File \"c:\\users\\hp\\anaconda3\\lib\\site-packages\\pip\\_internal\\cli\\base_command.py\", line 106, in _run_wrapper\n",
      "    status = _inner_run()\n",
      "  File \"c:\\users\\hp\\anaconda3\\lib\\site-packages\\pip\\_internal\\cli\\base_command.py\", line 97, in _inner_run\n",
      "    return self.run(options, args)\n",
      "  File \"c:\\users\\hp\\anaconda3\\lib\\site-packages\\pip\\_internal\\cli\\req_command.py\", line 67, in wrapper\n",
      "    return func(self, options, args)\n",
      "  File \"c:\\users\\hp\\anaconda3\\lib\\site-packages\\pip\\_internal\\commands\\install.py\", line 484, in run\n",
      "    installed_versions[distribution.canonical_name] = distribution.version\n",
      "  File \"c:\\users\\hp\\anaconda3\\lib\\site-packages\\pip\\_internal\\metadata\\pkg_resources.py\", line 192, in version\n",
      "    return parse_version(self._dist.version)\n",
      "  File \"c:\\users\\hp\\anaconda3\\lib\\site-packages\\pip\\_vendor\\packaging\\version.py\", line 56, in parse\n",
      "    return Version(version)\n",
      "  File \"c:\\users\\hp\\anaconda3\\lib\\site-packages\\pip\\_vendor\\packaging\\version.py\", line 202, in __init__\n",
      "    raise InvalidVersion(f\"Invalid version: {version!r}\")\n",
      "pip._vendor.packaging.version.InvalidVersion: Invalid version: '4.0.0-unsupported'\n"
     ]
    },
    {
     "name": "stdout",
     "output_type": "stream",
     "text": [
      "\n"
     ]
    }
   ],
   "source": [
    "!pip install googletrans==4.0.0-rc1"
   ]
  },
  {
   "cell_type": "code",
   "execution_count": 2,
   "id": "ec305d72",
   "metadata": {},
   "outputs": [
    {
     "name": "stdout",
     "output_type": "stream",
     "text": [
      "Translation completed successfully!\n"
     ]
    }
   ],
   "source": [
    "from googletrans import Translator\n",
    "\n",
    "# Function to translate Hindi to English\n",
    "def translate_hindi_to_english(input_file, output_file):\n",
    "    # Initialize the translator\n",
    "    translator = Translator()\n",
    "\n",
    "    # Read the contents of the input file (in Hindi)\n",
    "    with open(input_file, 'r', encoding='utf-8') as f:\n",
    "        hindi_text = f.read()\n",
    "\n",
    "    # Translate the text\n",
    "    translation = translator.translate(hindi_text, src='hi', dest='en')\n",
    "\n",
    "    # Write the translated text to the output file\n",
    "    with open(output_file, 'w', encoding='utf-8') as f:\n",
    "        f.write(translation.text)\n",
    "\n",
    "    print(\"Translation completed successfully!\")\n",
    "\n",
    "# Specify input and output file paths\n",
    "input_file = 'PMSPEECH.txt'  # Hindi input text file\n",
    "output_file = 'PMSPEECH_english.txt'  # Output English text file\n",
    "\n",
    "# Call the function\n",
    "translate_hindi_to_english(input_file, output_file)\n"
   ]
  },
  {
   "cell_type": "code",
   "execution_count": 6,
   "id": "7a90b066",
   "metadata": {},
   "outputs": [],
   "source": [
    "file_path = \"PMSPEECH.txt\"\n",
    "with open(file_path, \"r\", encoding=\"utf-8\") as file:\n",
    "    speech_textH = file.read()"
   ]
  },
  {
   "cell_type": "code",
   "execution_count": 7,
   "id": "6e1c89f8",
   "metadata": {},
   "outputs": [
    {
     "data": {
      "text/plain": [
       "'सदियों की प्रतिक्षा के बाद हमारे राम आ गए हैं। सदियों का अभूतपूर्व, धैर्य, अनगिनत, बलिदान, त्याग और तपस्या के बाद हमारे प्रभु राम आ गए है। इस शुभ गड़ी की आप सभी को समस्त। देशवासियों को बहुत बहुत बधाई। हमारे रामलला अब टेंट में नहीं रहेंगे। हमारे रामलला अभी दिव्य मंदिर में रहेंगे। मेरा पक्का विश्वास है, अपार श्रद्धा है कि जो गठित हुआ है, इसकी अनुभूति देश के विश्व के कोने कोने में, राम भक्तों को हो रही होगी। ये अलौकिक है, ये पल पवित्रतम है, ये माहौल, यह वातावरण, ये उर्जा, ये घड़ी प्रभु श्री राम का, हम सब पर आशीर्वाद है। 22 जनवरी 2024 का ये सूरज 1 अद्भुत आभा लेकर आया है। 22 जनवरी 2024, ये कैलेंडर पर लिखी। 1 तारीख नहीं, ये 1 नए काल चक्कर का उद्गम है। मैं आज प्रभु श्रीराम से मा याचना भी करता हूँ। हमारे पुरुषार्थ, हमारे त्याग, तपस्या में कुछ तो कमी रह गई होगी, की हम इतनी सदियों तक ये कार्य कर नहीं पाये। आज बो कमी पूरी हुई है। मुझे विश्वास है प्रभु राम, आज हमें अवश्य क्षमा करेंगे। संविधान के अस्तित्व में आने के बाद भी दशकों तक प्रभु श्रीराम के अस्तित्व को लेकर कानूनी लड़ाई चली। मैं आभार व्यक्त करूँगा। भारत की न्यायपालिका का, जिसने न्याय की लाज रख ली, न्याय के प्रयाय प्रभु राम का मंदिर भी न्याय बद्ध तरीके से ही बना। साथियों, आज गाँव, गाँव में 1 साथ किर्तन संकिर्तन हो रहे है। आज मंदिरों में उत्सव हो रहे हैं, स्वच्छता अभियान चलाये जा रहे हैं। पूरा देश आज दीपावली मना रहा है। आज शाम घर, घर, राम ज्योति प्रज्वलित करने की तैयारी है। कल मैं श्रीराम के आशीर्वाद से धनोज कोडी में राम सेतु के आरंभ बिंदु अरिजल मुनाई पर था। जिस गड़ी प्रभु राम समुद्र पार करने निकले थे, वो 1 पल था। जिसने काल चक्र को बदला था, उस भाव मे पल को महसूस करने का मेरा विनम्र प्रयास था। वहाँ पर मैंने पुष्प बंधना की वहाँ मेरे भीतर 1 विश्वास जगह कि जैसे उस समय काल चक्र बदला था, उसी तरह अब काल चक्र, फिर बदलेगा और शुभ दिशा में बढेगा। अपने 11 दिन के व्रत अनुष्ठान के दौरान मैंने उन स्थानों का चरण स्पर्श करने का प्रयास किया, जहाँ प्रभु राम के चरण पड़े, चाहे वो नासिक का पंचवटी दाम हो, करला का पवित्र त्रिपायर मंदिर हो, आंध्र प्रदेश में लेपाक्षी हो, श्रीरंगम मैं रंगनाथ स्वामी मंदिर हो, रामेश्वरम में श्री रामनाथ स्वामी मंदिर हो या फिर धनुषकोडी। मेरा सौभाग्य है कि इसी पुनित पवित्र भाव के साथ मुझे सागर से सरयू तक की यात्रा का अवसर मिला। सागर से सरयु तक, हर जगह राम नाम का वही उत्सव भाव छाया हुआ है। वो भी 1 समय था जब क कुछ लोग कहते थे कि राम मंदिर बना तो आग लग जाएगी। ऐसे लोग भारत के सामाजिक भाव की पवित्रता को नहीं जान पाए। राम लला के इस मंदिर का निर्माण भारतीय समाज के शांति, धैर्य, आपसी, सद्भाव और समन्वय का भी प्रतीक है। हम देख रहे हैं यह निर्माण किसी आग को नहीं बल्कि उर्जा को जन्म दे रहा है। राम मंदिर समाज के हर वर्ग को 1 उज्जवल भविष्य के पथ पर बढ़ने की प्रेरणा लेकर आया है। मैं, आज उन लोगों से आह्वान करूँगा, आइए, आप महसूस कीजिए, अपनी सोच पर पुनर्विचार कीजिए। राम आग नहीं है, राम उर्जा है, राम विवाद नहीं, राम समाधान है। राम सिर्फ हमारे नहीं है, राम तो सबके हैं। राम वर्तमान नहीं, सिर्फ वर्तमान नहीं, राम अनंत काल है। साथियों, आज जिस तरह राम मंदिर प्राण प्रतिष्ठा के इस आयोजन से पूरा विश्व जुड़ा हुआ है, उसमें राम की सर्व व्यापकता के दर्शन हो रहे हैं। जैसा उत्सव भारत में है, वैसा ही अनेक देशों में है। आज अयोध्या का ये उत्सव रामायण की उन वैश्विक परम्पराओं का भी उत्सव बना है। रामलला की प्रतिष्ठा वसुदेव को कम, कम के विचार की भी प्रतिष्ठा है। ये मंदिर मात्र 1 देव मंदिर नहीं है। ये भारत की दृष्टि का, भारत के दर्शन का, भारत के दिगदर्शन का मंदिर है। ये राम के रूप में राष्ट्र चेतना का मंदिर है। राम भारत की आस्था है, राम भारत का आधार है, राम भारत का विचार है, राम भारत का विधान है, राम भारत की चेतना है, राम भारत का चिंतन है, राम भारत की प्रतिष्ठा है, राम भारत का प्रताप है, राम प्रभाव है, राम प्रभाव है, राम नीति भी है, राम नीति भी है, राम नित्यता भी है, राम निरंतरता भी है, राम विभु है, विशद है, राम व्यापक है, विश्व है, विश्वास माँ है। और इसलिए जब राम की प्रतिष्ठा होती है, तो उसका प्रभाव वर्षों या शताब्दियों तक ही नहीं होता, उसका प्रभाव हजारों वर्षों के लिए होता है। श्री राम का भव्य मंदिर तो बन गया, अब आगे क्या सदयोगका? इंतजार तो खत्म हो गया। अब आगे क्या? आज के इस अवसर पर जो देव, जो देव, आत्माएं हमें आशीर्वाद देने के लिए उपस्थित हुई हैं, हमें देख रही हैं, उन्हें क्या हम ऐसे ही विदा करेंगे? नहीं, कदापि नहीं। आज मैं पूरे पवित्र मन से महसूस कर रहा हूँ, कि काल चक्र बदल रहा है। यह सुखद संयोग है कि हमारी पीढ़ी को 1 काल जई पद के शिल्पकार के रूप में चुना गया है। हजार वर्ष बाद की पीढ़ी राष्ट्र निर्माण के हमारे आज के कार्यों को याद करेगी। इसलिए मैं कहता हूँ, यही समय है, सही समय है। हमे आज से, इस पवित्र समय से, अगले 1000 साल के भारत की नींव रखनी है। मंदिर निर्माण से आगे बढ़कर, अब हमें सभी देशवासी, यही इस पल से, समर्थ, सक्षम, भव्य, दिव्य भारत के निर्माण की सौगंध लेते हैं। राम के विचार मानस के साथ ही जन मानस में भी हो, यही राष्ट्र निर्माण की सीढ़ी है।'"
      ]
     },
     "execution_count": 7,
     "metadata": {},
     "output_type": "execute_result"
    }
   ],
   "source": [
    "speech_textH"
   ]
  },
  {
   "cell_type": "code",
   "execution_count": 4,
   "id": "eea0c5a5",
   "metadata": {},
   "outputs": [],
   "source": [
    "file_path = \"PMSPEECH_english.txt\"\n",
    "with open(file_path, \"r\", encoding=\"utf-8\") as file:\n",
    "    speech_textE = file.read()\n"
   ]
  },
  {
   "cell_type": "code",
   "execution_count": 5,
   "id": "9acad05c",
   "metadata": {},
   "outputs": [
    {
     "data": {
      "text/plain": [
       "\"Our Ram has come after centuries of reply.Our Lord Ram has come after the unprecedented, patience, countless, sacrifice, sacrifice and penance of centuries.All of you all.Many congratulations to the countrymen.Our Ramlala will no longer live in the tent.Our Ramlala will stay in the divine temple right now.I have sure belief, it is immense reverence that what has been formed, it must be realized in the corner of the world, Ram devotees.This is supernatural, this moment is the highest, this atmosphere, this atmosphere, this energy, this clock of Lord Shri Ram, is a blessing on all of us.This sun of 22 January 2024 has brought 1 amazing aura.22 January 2024, written on the calendar.Not 1 date, these 1 new period is the origin of the affair.I also plead with Lord Shri Ram today.There must have been some lack of our efforts, our sacrifice, penance, that we could not do this work for so many centuries.Today the boat has been fulfilled.I believe Lord Ram, will definitely forgive us today.Even after the Constitution came into existence, a legal battle started for the existence of Lord Shri Ram for decades.I will express my gratitude.The judiciary of India, who has laid down justice, also built the temple of Prayas of justice in a manner in justice.Friends, today, in the village, village, there are 1 Kirtan Sankirtan.Today, festivals are being held in temples, cleanliness campaigns are being conducted.The whole country is celebrating Diwali today.This evening there is a preparation to ignite the house, house, Ram Jyoti.Yesterday I was at the beginning point of Ram Setu in Dhanoj Kodi with the blessings of Shri Ram.The Gadi Prabhu Rama who came out to cross the sea was 1 moment.It was my humble attempt to feel the moment in that feeling that had changed the Kaal Chakra.There I tied the flower there, there is 1 faith in me, as if the Kaal Chakra had changed at that time, in the same way, Kaal Chakra, then will change and grow in the auspicious direction.During my 11 -day fasting ritual, I tried to touch the feet of those places where the feet of Lord Rama, whether it is the Panchavati price of Nashik, the holy tripire temple of Karla, there is Lapakshi in Andhra Pradesh, Srirangam I RanganathThere should be Swami Temple, Sri Ramnath Swamy Temple or Dhanushkodi in Rameswaram.It is my good fortune that with this renovation, I got the opportunity to travel from Sagar to Saryu.From Sagar to Saryu, the same festival of Rama is overshadowed everywhere.That too was 1 time when some people used to say that if the Ram temple is built, the fire would be set.Such people could not know the sanctity of the social sentiment of India.The construction of this temple of Ram Lala is also a symbol of peace, patience, mutual, harmony and coordination of Indian society.We are seeing this construction is not giving any fire but giving rise to energy.The Ram temple has brought every section of the society to take inspiration to grow on the path of 1 bright future.I will call on those people today, let's feel, rethink your thinking.Ram is not fire, Ram is energy, Ram is not a dispute, Ram is a solution.Ram is not just ours, Ram belongs to everyone.Rama is not present, not just present, Ram is eternity.Friends, the way the whole world is associated with this event of Ram temple Pran Pratishtha is being seen in the way Ram temple is being seen in the bestness of Rama.As is the celebration in India, it is in many countries.Today, this festival of Ayodhya has also become a celebration of those global traditions of Ramayana.Ramlala's reputation is also a reputation of Vasudev's less, less idea.This temple is not just 1 Dev temple.This is the temple of Digardhana in India, of the vision of India, the philosophy of India.This is the temple of nation consciousness in the form of Rama.Rama is the faith of India, Ram is the basis of India, Ram is the idea of \\u200b\\u200bIndia, Ram is the law of India, Ram is the consciousness of India, Ram is the thinking of India, Ram is the prestige of India, Ram is the glory of IndiaHai, Rama is influence, Ram is also a policy, Ram is also a policy, Ram is also a continuity, Rama is also continuity, Ram is Vibhu, Viva is wide, Ram is widespread, world is the world, faith is mother.And so when Rama's reputation, it does not affect it for years or centuries, it affects for thousands of years.The grand temple of Shri Ram has been built, now what is the use of use?The wait is over.Now what next?On this occasion today, the gods, the gods and souls who have appeared to bless us, will we see us like this?No, not at all.Today I am feeling with full holy heart, that Kaal Chakra is changing.It is a pleasant coincidence that our generation has been selected as the craftsman of the 1st time of oats.A thousand years later, generations will remember our today's works of nation building.That's why I say, this is the time, the right time.We have to lay the foundation of India for the next 1000 years from today, from this holy time.By moving beyond the construction of the temple, now all the countrymen take us to create the creation of this moment, capable, competent, grand, divine India.Rama's thoughts should be in the mind as well as in the public mind, this is the ladder of nation building.\""
      ]
     },
     "execution_count": 5,
     "metadata": {},
     "output_type": "execute_result"
    }
   ],
   "source": [
    "speech_textE"
   ]
  },
  {
   "cell_type": "code",
   "execution_count": null,
   "id": "786bd034",
   "metadata": {},
   "outputs": [],
   "source": []
  }
 ],
 "metadata": {
  "kernelspec": {
   "display_name": "Python 3",
   "language": "python",
   "name": "python3"
  },
  "language_info": {
   "codemirror_mode": {
    "name": "ipython",
    "version": 3
   },
   "file_extension": ".py",
   "mimetype": "text/x-python",
   "name": "python",
   "nbconvert_exporter": "python",
   "pygments_lexer": "ipython3",
   "version": "3.8.8"
  }
 },
 "nbformat": 4,
 "nbformat_minor": 5
}
