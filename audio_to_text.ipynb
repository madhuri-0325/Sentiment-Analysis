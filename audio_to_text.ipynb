{
 "cells": [
  {
   "cell_type": "code",
   "execution_count": 1,
   "id": "13258f41",
   "metadata": {},
   "outputs": [
    {
     "name": "stdout",
     "output_type": "stream",
     "text": [
      "Requirement already satisfied: assemblyai in c:\\users\\hp\\anaconda3\\lib\\site-packages (0.24.0)\n",
      "Collecting httpx>=0.19.0 (from assemblyai)\n",
      "  Downloading httpx-0.28.1-py3-none-any.whl.metadata (7.1 kB)\n",
      "Requirement already satisfied: pydantic!=1.10.7,>=1.7.0 in c:\\users\\hp\\anaconda3\\lib\\site-packages (from assemblyai) (1.10.12)\n",
      "Requirement already satisfied: typing-extensions>=3.7 in c:\\users\\hp\\anaconda3\\lib\\site-packages (from assemblyai) (4.7.1)\n",
      "Requirement already satisfied: websockets>=11.0 in c:\\users\\hp\\anaconda3\\lib\\site-packages (from assemblyai) (12.0)\n",
      "Requirement already satisfied: anyio in c:\\users\\hp\\anaconda3\\lib\\site-packages (from httpx>=0.19.0->assemblyai) (2.2.0)\n",
      "Requirement already satisfied: certifi in c:\\users\\hp\\anaconda3\\lib\\site-packages (from httpx>=0.19.0->assemblyai) (2020.12.5)\n",
      "Collecting httpcore==1.* (from httpx>=0.19.0->assemblyai)\n",
      "  Downloading httpcore-1.0.7-py3-none-any.whl.metadata (21 kB)\n",
      "Requirement already satisfied: idna in c:\\users\\hp\\anaconda3\\lib\\site-packages (from httpx>=0.19.0->assemblyai) (2.10)\n",
      "Collecting h11<0.15,>=0.13 (from httpcore==1.*->httpx>=0.19.0->assemblyai)\n",
      "  Downloading h11-0.14.0-py3-none-any.whl.metadata (8.2 kB)\n",
      "Requirement already satisfied: sniffio>=1.1 in c:\\users\\hp\\anaconda3\\lib\\site-packages (from anyio->httpx>=0.19.0->assemblyai) (1.2.0)\n",
      "Downloading httpx-0.28.1-py3-none-any.whl (73 kB)\n",
      "Downloading httpcore-1.0.7-py3-none-any.whl (78 kB)\n",
      "Downloading h11-0.14.0-py3-none-any.whl (58 kB)\n",
      "Installing collected packages: h11, httpcore, httpx\n",
      "  Attempting uninstall: h11\n",
      "    Found existing installation: h11 0.9.0\n",
      "    Uninstalling h11-0.9.0:\n",
      "      Successfully uninstalled h11-0.9.0\n",
      "  Attempting uninstall: httpcore\n"
     ]
    },
    {
     "name": "stderr",
     "output_type": "stream",
     "text": [
      "WARNING: Error parsing dependencies of pyodbc: Invalid version: '4.0.0-unsupported'\n",
      "WARNING: Error parsing dependencies of pyzmq: Invalid version: 'cpython'\n",
      "ERROR: Exception:\n",
      "Traceback (most recent call last):\n",
      "  File \"c:\\users\\hp\\anaconda3\\lib\\site-packages\\pip\\_internal\\cli\\base_command.py\", line 106, in _run_wrapper\n",
      "    status = _inner_run()\n",
      "  File \"c:\\users\\hp\\anaconda3\\lib\\site-packages\\pip\\_internal\\cli\\base_command.py\", line 97, in _inner_run\n",
      "    return self.run(options, args)\n",
      "  File \"c:\\users\\hp\\anaconda3\\lib\\site-packages\\pip\\_internal\\cli\\req_command.py\", line 67, in wrapper\n",
      "    return func(self, options, args)\n",
      "  File \"c:\\users\\hp\\anaconda3\\lib\\site-packages\\pip\\_internal\\commands\\install.py\", line 484, in run\n",
      "    installed_versions[distribution.canonical_name] = distribution.version\n",
      "  File \"c:\\users\\hp\\anaconda3\\lib\\site-packages\\pip\\_internal\\metadata\\pkg_resources.py\", line 192, in version\n",
      "    return parse_version(self._dist.version)\n",
      "  File \"c:\\users\\hp\\anaconda3\\lib\\site-packages\\pip\\_vendor\\packaging\\version.py\", line 56, in parse\n",
      "    return Version(version)\n",
      "  File \"c:\\users\\hp\\anaconda3\\lib\\site-packages\\pip\\_vendor\\packaging\\version.py\", line 202, in __init__\n",
      "    raise InvalidVersion(f\"Invalid version: {version!r}\")\n",
      "pip._vendor.packaging.version.InvalidVersion: Invalid version: '4.0.0-unsupported'\n"
     ]
    },
    {
     "name": "stdout",
     "output_type": "stream",
     "text": [
      "    Found existing installation: httpcore 0.9.1\n",
      "    Uninstalling httpcore-0.9.1:\n",
      "      Successfully uninstalled httpcore-0.9.1\n",
      "  Attempting uninstall: httpx\n",
      "    Found existing installation: httpx 0.13.3\n",
      "    Uninstalling httpx-0.13.3:\n",
      "      Successfully uninstalled httpx-0.13.3\n"
     ]
    }
   ],
   "source": [
    "!pip install assemblyai"
   ]
  },
  {
   "cell_type": "code",
   "execution_count": 7,
   "id": "59af79ee",
   "metadata": {},
   "outputs": [],
   "source": [
    "#convert speech into text\n",
    "import assemblyai as aai\n",
    "aai.settings.api_key = \"yourkey\"\n",
    "audio_url=\"PM.mp4\"\n",
    "config=aai.TranscriptionConfig(language_code=\"hi\")\n",
    "transcriber = aai.Transcriber(config=config)\n",
    "transcript=transcriber.transcribe(audio_url)"
   ]
  },
  {
   "cell_type": "code",
   "execution_count": 8,
   "id": "f2c83a6c",
   "metadata": {},
   "outputs": [],
   "source": [
    "#save the speech text \n",
    "with open (\"PMSPEECH.txt\",\"w\",encoding=\"utf-8\") as f:\n",
    "    f.write(transcript.text)\n"
   ]
  },
  {
   "cell_type": "code",
   "execution_count": 9,
   "id": "ef709cd9",
   "metadata": {},
   "outputs": [],
   "source": [
    "#open and read speech text file \n",
    "file_path = \"PMSPEECH.txt\"\n",
    "with open(file_path, \"r\", encoding=\"utf-8\") as file:\n",
    "    speech_textH = file.read()\n"
   ]
  },
  {
   "cell_type": "code",
   "execution_count": 10,
   "id": "e6115ea4",
   "metadata": {},
   "outputs": [
    {
     "data": {
      "text/plain": [
       "'सदियों की प्रतिक्षा के बाद हमारे राम आ गए हैं। सदियों का अभूतपूर्व, धैर्य, अनगिनत, बलिदान, त्याग और तपस्या के बाद हमारे प्रभु राम आ गए है। इस शुभ गड़ी की आप सभी को समस्त। देशवासियों को बहुत बहुत बधाई। हमारे रामलला अब टेंट में नहीं रहेंगे। हमारे रामलला अभी दिव्य मंदिर में रहेंगे। मेरा पक्का विश्वास है, अपार श्रद्धा है कि जो गठित हुआ है, इसकी अनुभूति देश के विश्व के कोने कोने में, राम भक्तों को हो रही होगी। ये अलौकिक है, ये पल पवित्रतम है, ये माहौल, यह वातावरण, ये उर्जा, ये घड़ी प्रभु श्री राम का, हम सब पर आशीर्वाद है। 22 जनवरी 2024 का ये सूरज 1 अद्भुत आभा लेकर आया है। 22 जनवरी 2024, ये कैलेंडर पर लिखी। 1 तारीख नहीं, ये 1 नए काल चक्कर का उद्गम है। मैं आज प्रभु श्रीराम से मा याचना भी करता हूँ। हमारे पुरुषार्थ, हमारे त्याग, तपस्या में कुछ तो कमी रह गई होगी, की हम इतनी सदियों तक ये कार्य कर नहीं पाये। आज बो कमी पूरी हुई है। मुझे विश्वास है प्रभु राम, आज हमें अवश्य क्षमा करेंगे। संविधान के अस्तित्व में आने के बाद भी दशकों तक प्रभु श्रीराम के अस्तित्व को लेकर कानूनी लड़ाई चली। मैं आभार व्यक्त करूँगा। भारत की न्यायपालिका का, जिसने न्याय की लाज रख ली, न्याय के प्रयाय प्रभु राम का मंदिर भी न्याय बद्ध तरीके से ही बना। साथियों, आज गाँव, गाँव में 1 साथ किर्तन संकिर्तन हो रहे है। आज मंदिरों में उत्सव हो रहे हैं, स्वच्छता अभियान चलाये जा रहे हैं। पूरा देश आज दीपावली मना रहा है। आज शाम घर, घर, राम ज्योति प्रज्वलित करने की तैयारी है। कल मैं श्रीराम के आशीर्वाद से धनोज कोडी में राम सेतु के आरंभ बिंदु अरिजल मुनाई पर था। जिस गड़ी प्रभु राम समुद्र पार करने निकले थे, वो 1 पल था। जिसने काल चक्र को बदला था, उस भाव मे पल को महसूस करने का मेरा विनम्र प्रयास था। वहाँ पर मैंने पुष्प बंधना की वहाँ मेरे भीतर 1 विश्वास जगह कि जैसे उस समय काल चक्र बदला था, उसी तरह अब काल चक्र, फिर बदलेगा और शुभ दिशा में बढेगा। अपने 11 दिन के व्रत अनुष्ठान के दौरान मैंने उन स्थानों का चरण स्पर्श करने का प्रयास किया, जहाँ प्रभु राम के चरण पड़े, चाहे वो नासिक का पंचवटी दाम हो, करला का पवित्र त्रिपायर मंदिर हो, आंध्र प्रदेश में लेपाक्षी हो, श्रीरंगम मैं रंगनाथ स्वामी मंदिर हो, रामेश्वरम में श्री रामनाथ स्वामी मंदिर हो या फिर धनुषकोडी। मेरा सौभाग्य है कि इसी पुनित पवित्र भाव के साथ मुझे सागर से सरयू तक की यात्रा का अवसर मिला। सागर से सरयु तक, हर जगह राम नाम का वही उत्सव भाव छाया हुआ है। वो भी 1 समय था जब क कुछ लोग कहते थे कि राम मंदिर बना तो आग लग जाएगी। ऐसे लोग भारत के सामाजिक भाव की पवित्रता को नहीं जान पाए। राम लला के इस मंदिर का निर्माण भारतीय समाज के शांति, धैर्य, आपसी, सद्भाव और समन्वय का भी प्रतीक है। हम देख रहे हैं यह निर्माण किसी आग को नहीं बल्कि उर्जा को जन्म दे रहा है। राम मंदिर समाज के हर वर्ग को 1 उज्जवल भविष्य के पथ पर बढ़ने की प्रेरणा लेकर आया है। मैं, आज उन लोगों से आह्वान करूँगा, आइए, आप महसूस कीजिए, अपनी सोच पर पुनर्विचार कीजिए। राम आग नहीं है, राम उर्जा है, राम विवाद नहीं, राम समाधान है। राम सिर्फ हमारे नहीं है, राम तो सबके हैं। राम वर्तमान नहीं, सिर्फ वर्तमान नहीं, राम अनंत काल है। साथियों, आज जिस तरह राम मंदिर प्राण प्रतिष्ठा के इस आयोजन से पूरा विश्व जुड़ा हुआ है, उसमें राम की सर्व व्यापकता के दर्शन हो रहे हैं। जैसा उत्सव भारत में है, वैसा ही अनेक देशों में है। आज अयोध्या का ये उत्सव रामायण की उन वैश्विक परम्पराओं का भी उत्सव बना है। रामलला की प्रतिष्ठा वसुदेव को कम, कम के विचार की भी प्रतिष्ठा है। ये मंदिर मात्र 1 देव मंदिर नहीं है। ये भारत की दृष्टि का, भारत के दर्शन का, भारत के दिगदर्शन का मंदिर है। ये राम के रूप में राष्ट्र चेतना का मंदिर है। राम भारत की आस्था है, राम भारत का आधार है, राम भारत का विचार है, राम भारत का विधान है, राम भारत की चेतना है, राम भारत का चिंतन है, राम भारत की प्रतिष्ठा है, राम भारत का प्रताप है, राम प्रभाव है, राम प्रभाव है, राम नीति भी है, राम नीति भी है, राम नित्यता भी है, राम निरंतरता भी है, राम विभु है, विशद है, राम व्यापक है, विश्व है, विश्वास माँ है। और इसलिए जब राम की प्रतिष्ठा होती है, तो उसका प्रभाव वर्षों या शताब्दियों तक ही नहीं होता, उसका प्रभाव हजारों वर्षों के लिए होता है। श्री राम का भव्य मंदिर तो बन गया, अब आगे क्या सदयोगका? इंतजार तो खत्म हो गया। अब आगे क्या? आज के इस अवसर पर जो देव, जो देव, आत्माएं हमें आशीर्वाद देने के लिए उपस्थित हुई हैं, हमें देख रही हैं, उन्हें क्या हम ऐसे ही विदा करेंगे? नहीं, कदापि नहीं। आज मैं पूरे पवित्र मन से महसूस कर रहा हूँ, कि काल चक्र बदल रहा है। यह सुखद संयोग है कि हमारी पीढ़ी को 1 काल जई पद के शिल्पकार के रूप में चुना गया है। हजार वर्ष बाद की पीढ़ी राष्ट्र निर्माण के हमारे आज के कार्यों को याद करेगी। इसलिए मैं कहता हूँ, यही समय है, सही समय है। हमे आज से, इस पवित्र समय से, अगले 1000 साल के भारत की नींव रखनी है। मंदिर निर्माण से आगे बढ़कर, अब हमें सभी देशवासी, यही इस पल से, समर्थ, सक्षम, भव्य, दिव्य भारत के निर्माण की सौगंध लेते हैं। राम के विचार मानस के साथ ही जन मानस में भी हो, यही राष्ट्र निर्माण की सीढ़ी है।'"
      ]
     },
     "execution_count": 10,
     "metadata": {},
     "output_type": "execute_result"
    }
   ],
   "source": [
    "speech_textH"
   ]
  },
  {
   "cell_type": "code",
   "execution_count": null,
   "id": "7fe0a79d",
   "metadata": {},
   "outputs": [],
   "source": []
  }
 ],
 "metadata": {
  "kernelspec": {
   "display_name": "Python 3",
   "language": "python",
   "name": "python3"
  },
  "language_info": {
   "codemirror_mode": {
    "name": "ipython",
    "version": 3
   },
   "file_extension": ".py",
   "mimetype": "text/x-python",
   "name": "python",
   "nbconvert_exporter": "python",
   "pygments_lexer": "ipython3",
   "version": "3.8.8"
  }
 },
 "nbformat": 4,
 "nbformat_minor": 5
}
